{
 "cells": [
  {
   "cell_type": "code",
   "execution_count": 2,
   "metadata": {
    "collapsed": true
   },
   "outputs": [],
   "source": [
    "%matplotlib inline"
   ]
  },
  {
   "cell_type": "code",
   "execution_count": 42,
   "metadata": {
    "collapsed": true
   },
   "outputs": [],
   "source": [
    "import matplotlib.pyplot as plt\n",
    "import numpy as np\n",
    "import pandas as pd\n",
    "import seaborn as sb\n",
    "from scipy.interpolate import spline\n",
    "\n",
    "import logisticRegression as lr"
   ]
  },
  {
   "cell_type": "code",
   "execution_count": 5,
   "metadata": {},
   "outputs": [],
   "source": [
    "#set index to passenger ID\n",
    "#ignore unwanted columns when reading in \n",
    "trainingData = pd.read_csv('titanic-dataset-train.csv', index_col='passengerid', usecols=['passengerid', 'pclass', 'survived', 'sex', 'age', 'sibsp', 'parch', 'fare', 'embarked'])\n",
    "testingData = pd.read_csv('titanic-dataset-test.csv', index_col='passengerid', usecols=['passengerid', 'pclass', 'survived', 'sex', 'age', 'sibsp', 'parch', 'fare', 'embarked'])"
   ]
  },
  {
   "cell_type": "code",
   "execution_count": 7,
   "metadata": {},
   "outputs": [],
   "source": [
    "#useful pclass, sex, age, maybe sibsp?\n",
    "#Not so useful - name, ticket, home.dest... \n",
    "\n",
    "#trainingData\n",
    "#type(trainingData)"
   ]
  },
  {
   "cell_type": "code",
   "execution_count": 8,
   "metadata": {},
   "outputs": [
    {
     "name": "stdout",
     "output_type": "stream",
     "text": [
      "Total Passengers in Training set: 1000\n",
      "Total Passengers in Testing set: 309\n"
     ]
    }
   ],
   "source": [
    "print('Total Passengers in Training set: ' + str(len(trainingData)))\n",
    "print('Total Passengers in Testing set: ' + str(len(testingData)))"
   ]
  },
  {
   "cell_type": "code",
   "execution_count": 9,
   "metadata": {
    "scrolled": false
   },
   "outputs": [
    {
     "name": "stdout",
     "output_type": "stream",
     "text": [
      "Died:  621\n",
      "Survived:  379\n",
      "62.1 percent death rate\n"
     ]
    }
   ],
   "source": [
    "died = trainingData['survived'].count() - trainingData['survived'].sum()\n",
    "survived = trainingData['survived'].sum()\n",
    "\n",
    "\n",
    "    \n",
    "print('Died:  ' + str(died))\n",
    "print('Survived:  ' + str(survived))\n",
    "\n",
    "print(str(died/len(trainingData)*100) + \" percent death rate\")"
   ]
  },
  {
   "cell_type": "code",
   "execution_count": 10,
   "metadata": {},
   "outputs": [
    {
     "data": {
      "text/plain": [
       "pclass        0\n",
       "survived      0\n",
       "sex           0\n",
       "age         201\n",
       "sibsp         0\n",
       "parch         0\n",
       "fare          0\n",
       "embarked      2\n",
       "dtype: int64"
      ]
     },
     "execution_count": 10,
     "metadata": {},
     "output_type": "execute_result"
    }
   ],
   "source": [
    "trainingData.isnull().sum()"
   ]
  },
  {
   "cell_type": "code",
   "execution_count": 11,
   "metadata": {},
   "outputs": [
    {
     "data": {
      "text/plain": [
       "pclass       0\n",
       "survived     0\n",
       "sex          0\n",
       "age         62\n",
       "sibsp        0\n",
       "parch        0\n",
       "fare         1\n",
       "embarked     0\n",
       "dtype: int64"
      ]
     },
     "execution_count": 11,
     "metadata": {},
     "output_type": "execute_result"
    }
   ],
   "source": [
    "testingData.isnull().sum()"
   ]
  },
  {
   "cell_type": "markdown",
   "metadata": {},
   "source": [
    "# Fixing Variables"
   ]
  },
  {
   "cell_type": "code",
   "execution_count": 12,
   "metadata": {
    "collapsed": true
   },
   "outputs": [],
   "source": [
    "def fixAges(passenger):\n",
    "    \n",
    "    age = passenger['age']\n",
    "    pclass = passenger['pclass']\n",
    "    \n",
    "    if( np.isnan(age) and not (np.isnan(pclass)) ):\n",
    "        #checking by class to assign an average age\n",
    "        if(pclass == 1):\n",
    "            return int(np.nanmean(trainingData['age'][trainingData['pclass'] == 1]))\n",
    "        elif(pclass == 2):                \n",
    "            return int(np.nanmean(trainingData['age'][trainingData['pclass'] == 2]))\n",
    "        else:\n",
    "            return int(np.nanmean(trainingData['age'][trainingData['pclass'] == 3]))\n",
    "    else:\n",
    "        return age"
   ]
  },
  {
   "cell_type": "code",
   "execution_count": 14,
   "metadata": {
    "scrolled": true
   },
   "outputs": [],
   "source": [
    "trainingData['age'] = trainingData.apply(fixAges, axis=1)\n",
    "testingData['age'] = testingData.apply(fixAges, axis=1)"
   ]
  },
  {
   "cell_type": "code",
   "execution_count": 15,
   "metadata": {},
   "outputs": [
    {
     "data": {
      "text/plain": [
       "pclass      0\n",
       "survived    0\n",
       "sex         0\n",
       "age         0\n",
       "sibsp       0\n",
       "parch       0\n",
       "fare        0\n",
       "embarked    2\n",
       "dtype: int64"
      ]
     },
     "execution_count": 15,
     "metadata": {},
     "output_type": "execute_result"
    }
   ],
   "source": [
    "trainingData.isnull().sum()"
   ]
  },
  {
   "cell_type": "code",
   "execution_count": 16,
   "metadata": {},
   "outputs": [
    {
     "data": {
      "text/plain": [
       "pclass      0\n",
       "survived    0\n",
       "sex         0\n",
       "age         0\n",
       "sibsp       0\n",
       "parch       0\n",
       "fare        1\n",
       "embarked    0\n",
       "dtype: int64"
      ]
     },
     "execution_count": 16,
     "metadata": {},
     "output_type": "execute_result"
    }
   ],
   "source": [
    "testingData.isnull().sum()"
   ]
  },
  {
   "cell_type": "code",
   "execution_count": 18,
   "metadata": {
    "collapsed": true
   },
   "outputs": [],
   "source": [
    "trainingData = trainingData.dropna()\n",
    "testingData = testingData.dropna()"
   ]
  },
  {
   "cell_type": "code",
   "execution_count": 20,
   "metadata": {},
   "outputs": [
    {
     "name": "stdout",
     "output_type": "stream",
     "text": [
      "Total Passengers in Training set: 998\n",
      "Total Passengers in Testing set: 308\n"
     ]
    }
   ],
   "source": [
    "print('Total Passengers in Training set: ' + str(len(trainingData)))\n",
    "print('Total Passengers in Testing set: ' + str(len(testingData)))"
   ]
  },
  {
   "cell_type": "code",
   "execution_count": 13,
   "metadata": {
    "collapsed": true
   },
   "outputs": [],
   "source": [
    "# must convert categorical/string variables to dummy/numerical indicators"
   ]
  },
  {
   "cell_type": "code",
   "execution_count": 21,
   "metadata": {},
   "outputs": [],
   "source": [
    "# converting sex column to 1 for male and 0 for female\n",
    "\n",
    "#trainingData['Sex'] = trainingData['Sex'].apply(lambda sex: 1 if sex=='male' else 0)\n",
    "#above recieves warning\n",
    "\n",
    "trainingData.loc[:, 'sex'] = trainingData.loc[:, 'sex'].apply(lambda sex: 1 if sex=='male' else 0)\n",
    "testingData.loc[:, 'sex'] = testingData.loc[:, 'sex'].apply(lambda sex: 1 if sex=='male' else 0)"
   ]
  },
  {
   "cell_type": "code",
   "execution_count": 22,
   "metadata": {},
   "outputs": [],
   "source": [
    "#assign 0-2 for port of embarkation\n",
    "#  0 for S (Southampton) - 1 for C (Cherbourg) - 2 for Q (Queenstown)\n",
    "\n",
    "trainingData.loc[:, 'embarked'] = trainingData.loc[:, 'embarked'].apply(lambda port: 0 if port=='S' else 1 if port=='C' else 2)\n",
    "testingData.loc[:, 'embarked'] = testingData.loc[:, 'embarked'].apply(lambda port: 0 if port=='S' else 1 if port=='C' else 2)"
   ]
  },
  {
   "cell_type": "code",
   "execution_count": 24,
   "metadata": {},
   "outputs": [
    {
     "data": {
      "text/html": [
       "<div>\n",
       "<style>\n",
       "    .dataframe thead tr:only-child th {\n",
       "        text-align: right;\n",
       "    }\n",
       "\n",
       "    .dataframe thead th {\n",
       "        text-align: left;\n",
       "    }\n",
       "\n",
       "    .dataframe tbody tr th {\n",
       "        vertical-align: top;\n",
       "    }\n",
       "</style>\n",
       "<table border=\"1\" class=\"dataframe\">\n",
       "  <thead>\n",
       "    <tr style=\"text-align: right;\">\n",
       "      <th></th>\n",
       "      <th>pclass</th>\n",
       "      <th>survived</th>\n",
       "      <th>sex</th>\n",
       "      <th>age</th>\n",
       "      <th>sibsp</th>\n",
       "      <th>parch</th>\n",
       "      <th>fare</th>\n",
       "      <th>embarked</th>\n",
       "    </tr>\n",
       "    <tr>\n",
       "      <th>passengerid</th>\n",
       "      <th></th>\n",
       "      <th></th>\n",
       "      <th></th>\n",
       "      <th></th>\n",
       "      <th></th>\n",
       "      <th></th>\n",
       "      <th></th>\n",
       "      <th></th>\n",
       "    </tr>\n",
       "  </thead>\n",
       "  <tbody>\n",
       "    <tr>\n",
       "      <th>1</th>\n",
       "      <td>3</td>\n",
       "      <td>0</td>\n",
       "      <td>1</td>\n",
       "      <td>36.0</td>\n",
       "      <td>0</td>\n",
       "      <td>0</td>\n",
       "      <td>0.0000</td>\n",
       "      <td>0</td>\n",
       "    </tr>\n",
       "    <tr>\n",
       "      <th>2</th>\n",
       "      <td>2</td>\n",
       "      <td>0</td>\n",
       "      <td>1</td>\n",
       "      <td>21.0</td>\n",
       "      <td>0</td>\n",
       "      <td>0</td>\n",
       "      <td>73.5000</td>\n",
       "      <td>0</td>\n",
       "    </tr>\n",
       "    <tr>\n",
       "      <th>3</th>\n",
       "      <td>1</td>\n",
       "      <td>0</td>\n",
       "      <td>1</td>\n",
       "      <td>56.0</td>\n",
       "      <td>0</td>\n",
       "      <td>0</td>\n",
       "      <td>26.5500</td>\n",
       "      <td>0</td>\n",
       "    </tr>\n",
       "    <tr>\n",
       "      <th>4</th>\n",
       "      <td>2</td>\n",
       "      <td>0</td>\n",
       "      <td>0</td>\n",
       "      <td>29.0</td>\n",
       "      <td>0</td>\n",
       "      <td>0</td>\n",
       "      <td>21.0000</td>\n",
       "      <td>0</td>\n",
       "    </tr>\n",
       "    <tr>\n",
       "      <th>5</th>\n",
       "      <td>3</td>\n",
       "      <td>0</td>\n",
       "      <td>0</td>\n",
       "      <td>43.0</td>\n",
       "      <td>1</td>\n",
       "      <td>6</td>\n",
       "      <td>46.9000</td>\n",
       "      <td>0</td>\n",
       "    </tr>\n",
       "    <tr>\n",
       "      <th>6</th>\n",
       "      <td>3</td>\n",
       "      <td>1</td>\n",
       "      <td>0</td>\n",
       "      <td>24.0</td>\n",
       "      <td>2</td>\n",
       "      <td>0</td>\n",
       "      <td>23.2500</td>\n",
       "      <td>2</td>\n",
       "    </tr>\n",
       "    <tr>\n",
       "      <th>7</th>\n",
       "      <td>2</td>\n",
       "      <td>1</td>\n",
       "      <td>0</td>\n",
       "      <td>23.0</td>\n",
       "      <td>0</td>\n",
       "      <td>0</td>\n",
       "      <td>13.7917</td>\n",
       "      <td>1</td>\n",
       "    </tr>\n",
       "    <tr>\n",
       "      <th>8</th>\n",
       "      <td>1</td>\n",
       "      <td>1</td>\n",
       "      <td>0</td>\n",
       "      <td>38.0</td>\n",
       "      <td>1</td>\n",
       "      <td>0</td>\n",
       "      <td>52.0000</td>\n",
       "      <td>0</td>\n",
       "    </tr>\n",
       "    <tr>\n",
       "      <th>9</th>\n",
       "      <td>3</td>\n",
       "      <td>1</td>\n",
       "      <td>0</td>\n",
       "      <td>24.0</td>\n",
       "      <td>1</td>\n",
       "      <td>1</td>\n",
       "      <td>22.3583</td>\n",
       "      <td>1</td>\n",
       "    </tr>\n",
       "    <tr>\n",
       "      <th>10</th>\n",
       "      <td>3</td>\n",
       "      <td>1</td>\n",
       "      <td>0</td>\n",
       "      <td>24.0</td>\n",
       "      <td>0</td>\n",
       "      <td>0</td>\n",
       "      <td>7.7792</td>\n",
       "      <td>2</td>\n",
       "    </tr>\n",
       "    <tr>\n",
       "      <th>11</th>\n",
       "      <td>3</td>\n",
       "      <td>0</td>\n",
       "      <td>1</td>\n",
       "      <td>22.0</td>\n",
       "      <td>0</td>\n",
       "      <td>0</td>\n",
       "      <td>7.7750</td>\n",
       "      <td>0</td>\n",
       "    </tr>\n",
       "    <tr>\n",
       "      <th>12</th>\n",
       "      <td>3</td>\n",
       "      <td>1</td>\n",
       "      <td>0</td>\n",
       "      <td>18.0</td>\n",
       "      <td>0</td>\n",
       "      <td>1</td>\n",
       "      <td>9.3500</td>\n",
       "      <td>0</td>\n",
       "    </tr>\n",
       "    <tr>\n",
       "      <th>13</th>\n",
       "      <td>1</td>\n",
       "      <td>0</td>\n",
       "      <td>1</td>\n",
       "      <td>36.0</td>\n",
       "      <td>0</td>\n",
       "      <td>0</td>\n",
       "      <td>75.2417</td>\n",
       "      <td>1</td>\n",
       "    </tr>\n",
       "    <tr>\n",
       "      <th>14</th>\n",
       "      <td>1</td>\n",
       "      <td>1</td>\n",
       "      <td>0</td>\n",
       "      <td>27.0</td>\n",
       "      <td>1</td>\n",
       "      <td>1</td>\n",
       "      <td>247.5208</td>\n",
       "      <td>1</td>\n",
       "    </tr>\n",
       "    <tr>\n",
       "      <th>15</th>\n",
       "      <td>2</td>\n",
       "      <td>0</td>\n",
       "      <td>1</td>\n",
       "      <td>23.0</td>\n",
       "      <td>0</td>\n",
       "      <td>0</td>\n",
       "      <td>15.0458</td>\n",
       "      <td>1</td>\n",
       "    </tr>\n",
       "    <tr>\n",
       "      <th>16</th>\n",
       "      <td>1</td>\n",
       "      <td>0</td>\n",
       "      <td>1</td>\n",
       "      <td>38.0</td>\n",
       "      <td>0</td>\n",
       "      <td>0</td>\n",
       "      <td>27.7208</td>\n",
       "      <td>1</td>\n",
       "    </tr>\n",
       "    <tr>\n",
       "      <th>17</th>\n",
       "      <td>2</td>\n",
       "      <td>0</td>\n",
       "      <td>1</td>\n",
       "      <td>30.0</td>\n",
       "      <td>1</td>\n",
       "      <td>0</td>\n",
       "      <td>24.0000</td>\n",
       "      <td>1</td>\n",
       "    </tr>\n",
       "    <tr>\n",
       "      <th>18</th>\n",
       "      <td>3</td>\n",
       "      <td>0</td>\n",
       "      <td>1</td>\n",
       "      <td>24.0</td>\n",
       "      <td>0</td>\n",
       "      <td>0</td>\n",
       "      <td>7.7333</td>\n",
       "      <td>2</td>\n",
       "    </tr>\n",
       "    <tr>\n",
       "      <th>19</th>\n",
       "      <td>2</td>\n",
       "      <td>1</td>\n",
       "      <td>0</td>\n",
       "      <td>6.0</td>\n",
       "      <td>0</td>\n",
       "      <td>1</td>\n",
       "      <td>33.0000</td>\n",
       "      <td>0</td>\n",
       "    </tr>\n",
       "    <tr>\n",
       "      <th>20</th>\n",
       "      <td>1</td>\n",
       "      <td>1</td>\n",
       "      <td>1</td>\n",
       "      <td>38.0</td>\n",
       "      <td>0</td>\n",
       "      <td>0</td>\n",
       "      <td>30.5000</td>\n",
       "      <td>0</td>\n",
       "    </tr>\n",
       "    <tr>\n",
       "      <th>21</th>\n",
       "      <td>1</td>\n",
       "      <td>1</td>\n",
       "      <td>0</td>\n",
       "      <td>35.0</td>\n",
       "      <td>0</td>\n",
       "      <td>0</td>\n",
       "      <td>135.6333</td>\n",
       "      <td>0</td>\n",
       "    </tr>\n",
       "    <tr>\n",
       "      <th>22</th>\n",
       "      <td>3</td>\n",
       "      <td>0</td>\n",
       "      <td>1</td>\n",
       "      <td>24.0</td>\n",
       "      <td>0</td>\n",
       "      <td>0</td>\n",
       "      <td>7.2292</td>\n",
       "      <td>1</td>\n",
       "    </tr>\n",
       "    <tr>\n",
       "      <th>23</th>\n",
       "      <td>3</td>\n",
       "      <td>0</td>\n",
       "      <td>1</td>\n",
       "      <td>28.0</td>\n",
       "      <td>0</td>\n",
       "      <td>0</td>\n",
       "      <td>8.0500</td>\n",
       "      <td>0</td>\n",
       "    </tr>\n",
       "    <tr>\n",
       "      <th>24</th>\n",
       "      <td>3</td>\n",
       "      <td>0</td>\n",
       "      <td>1</td>\n",
       "      <td>25.0</td>\n",
       "      <td>1</td>\n",
       "      <td>0</td>\n",
       "      <td>7.7750</td>\n",
       "      <td>0</td>\n",
       "    </tr>\n",
       "    <tr>\n",
       "      <th>25</th>\n",
       "      <td>3</td>\n",
       "      <td>0</td>\n",
       "      <td>1</td>\n",
       "      <td>4.0</td>\n",
       "      <td>3</td>\n",
       "      <td>2</td>\n",
       "      <td>27.9000</td>\n",
       "      <td>0</td>\n",
       "    </tr>\n",
       "    <tr>\n",
       "      <th>26</th>\n",
       "      <td>3</td>\n",
       "      <td>0</td>\n",
       "      <td>1</td>\n",
       "      <td>40.5</td>\n",
       "      <td>0</td>\n",
       "      <td>2</td>\n",
       "      <td>14.5000</td>\n",
       "      <td>0</td>\n",
       "    </tr>\n",
       "    <tr>\n",
       "      <th>27</th>\n",
       "      <td>1</td>\n",
       "      <td>1</td>\n",
       "      <td>0</td>\n",
       "      <td>47.0</td>\n",
       "      <td>1</td>\n",
       "      <td>1</td>\n",
       "      <td>52.5542</td>\n",
       "      <td>0</td>\n",
       "    </tr>\n",
       "    <tr>\n",
       "      <th>28</th>\n",
       "      <td>2</td>\n",
       "      <td>0</td>\n",
       "      <td>0</td>\n",
       "      <td>18.0</td>\n",
       "      <td>1</td>\n",
       "      <td>1</td>\n",
       "      <td>13.0000</td>\n",
       "      <td>0</td>\n",
       "    </tr>\n",
       "    <tr>\n",
       "      <th>29</th>\n",
       "      <td>3</td>\n",
       "      <td>0</td>\n",
       "      <td>0</td>\n",
       "      <td>32.0</td>\n",
       "      <td>1</td>\n",
       "      <td>1</td>\n",
       "      <td>15.5000</td>\n",
       "      <td>2</td>\n",
       "    </tr>\n",
       "    <tr>\n",
       "      <th>30</th>\n",
       "      <td>2</td>\n",
       "      <td>0</td>\n",
       "      <td>1</td>\n",
       "      <td>36.0</td>\n",
       "      <td>0</td>\n",
       "      <td>0</td>\n",
       "      <td>13.0000</td>\n",
       "      <td>0</td>\n",
       "    </tr>\n",
       "    <tr>\n",
       "      <th>...</th>\n",
       "      <td>...</td>\n",
       "      <td>...</td>\n",
       "      <td>...</td>\n",
       "      <td>...</td>\n",
       "      <td>...</td>\n",
       "      <td>...</td>\n",
       "      <td>...</td>\n",
       "      <td>...</td>\n",
       "    </tr>\n",
       "    <tr>\n",
       "      <th>971</th>\n",
       "      <td>3</td>\n",
       "      <td>0</td>\n",
       "      <td>0</td>\n",
       "      <td>30.0</td>\n",
       "      <td>1</td>\n",
       "      <td>1</td>\n",
       "      <td>24.1500</td>\n",
       "      <td>0</td>\n",
       "    </tr>\n",
       "    <tr>\n",
       "      <th>972</th>\n",
       "      <td>2</td>\n",
       "      <td>0</td>\n",
       "      <td>1</td>\n",
       "      <td>36.0</td>\n",
       "      <td>0</td>\n",
       "      <td>0</td>\n",
       "      <td>13.0000</td>\n",
       "      <td>0</td>\n",
       "    </tr>\n",
       "    <tr>\n",
       "      <th>973</th>\n",
       "      <td>3</td>\n",
       "      <td>1</td>\n",
       "      <td>1</td>\n",
       "      <td>20.0</td>\n",
       "      <td>0</td>\n",
       "      <td>0</td>\n",
       "      <td>7.2292</td>\n",
       "      <td>1</td>\n",
       "    </tr>\n",
       "    <tr>\n",
       "      <th>974</th>\n",
       "      <td>3</td>\n",
       "      <td>0</td>\n",
       "      <td>1</td>\n",
       "      <td>24.0</td>\n",
       "      <td>1</td>\n",
       "      <td>0</td>\n",
       "      <td>15.5000</td>\n",
       "      <td>2</td>\n",
       "    </tr>\n",
       "    <tr>\n",
       "      <th>975</th>\n",
       "      <td>2</td>\n",
       "      <td>1</td>\n",
       "      <td>0</td>\n",
       "      <td>45.0</td>\n",
       "      <td>0</td>\n",
       "      <td>2</td>\n",
       "      <td>30.0000</td>\n",
       "      <td>0</td>\n",
       "    </tr>\n",
       "    <tr>\n",
       "      <th>976</th>\n",
       "      <td>1</td>\n",
       "      <td>1</td>\n",
       "      <td>1</td>\n",
       "      <td>31.0</td>\n",
       "      <td>1</td>\n",
       "      <td>0</td>\n",
       "      <td>57.0000</td>\n",
       "      <td>0</td>\n",
       "    </tr>\n",
       "    <tr>\n",
       "      <th>977</th>\n",
       "      <td>3</td>\n",
       "      <td>0</td>\n",
       "      <td>1</td>\n",
       "      <td>59.0</td>\n",
       "      <td>0</td>\n",
       "      <td>0</td>\n",
       "      <td>7.2500</td>\n",
       "      <td>0</td>\n",
       "    </tr>\n",
       "    <tr>\n",
       "      <th>978</th>\n",
       "      <td>1</td>\n",
       "      <td>0</td>\n",
       "      <td>1</td>\n",
       "      <td>38.0</td>\n",
       "      <td>0</td>\n",
       "      <td>0</td>\n",
       "      <td>42.4000</td>\n",
       "      <td>0</td>\n",
       "    </tr>\n",
       "    <tr>\n",
       "      <th>979</th>\n",
       "      <td>3</td>\n",
       "      <td>0</td>\n",
       "      <td>1</td>\n",
       "      <td>24.0</td>\n",
       "      <td>2</td>\n",
       "      <td>0</td>\n",
       "      <td>24.1500</td>\n",
       "      <td>0</td>\n",
       "    </tr>\n",
       "    <tr>\n",
       "      <th>980</th>\n",
       "      <td>3</td>\n",
       "      <td>0</td>\n",
       "      <td>1</td>\n",
       "      <td>24.0</td>\n",
       "      <td>0</td>\n",
       "      <td>0</td>\n",
       "      <td>7.7500</td>\n",
       "      <td>2</td>\n",
       "    </tr>\n",
       "    <tr>\n",
       "      <th>981</th>\n",
       "      <td>2</td>\n",
       "      <td>1</td>\n",
       "      <td>0</td>\n",
       "      <td>1.0</td>\n",
       "      <td>1</td>\n",
       "      <td>2</td>\n",
       "      <td>41.5792</td>\n",
       "      <td>1</td>\n",
       "    </tr>\n",
       "    <tr>\n",
       "      <th>982</th>\n",
       "      <td>1</td>\n",
       "      <td>0</td>\n",
       "      <td>1</td>\n",
       "      <td>42.0</td>\n",
       "      <td>0</td>\n",
       "      <td>0</td>\n",
       "      <td>42.5000</td>\n",
       "      <td>0</td>\n",
       "    </tr>\n",
       "    <tr>\n",
       "      <th>983</th>\n",
       "      <td>3</td>\n",
       "      <td>1</td>\n",
       "      <td>0</td>\n",
       "      <td>24.0</td>\n",
       "      <td>1</td>\n",
       "      <td>0</td>\n",
       "      <td>24.1500</td>\n",
       "      <td>2</td>\n",
       "    </tr>\n",
       "    <tr>\n",
       "      <th>984</th>\n",
       "      <td>1</td>\n",
       "      <td>1</td>\n",
       "      <td>0</td>\n",
       "      <td>28.0</td>\n",
       "      <td>3</td>\n",
       "      <td>2</td>\n",
       "      <td>263.0000</td>\n",
       "      <td>0</td>\n",
       "    </tr>\n",
       "    <tr>\n",
       "      <th>985</th>\n",
       "      <td>1</td>\n",
       "      <td>0</td>\n",
       "      <td>1</td>\n",
       "      <td>50.0</td>\n",
       "      <td>1</td>\n",
       "      <td>0</td>\n",
       "      <td>55.9000</td>\n",
       "      <td>0</td>\n",
       "    </tr>\n",
       "    <tr>\n",
       "      <th>986</th>\n",
       "      <td>3</td>\n",
       "      <td>1</td>\n",
       "      <td>1</td>\n",
       "      <td>24.0</td>\n",
       "      <td>0</td>\n",
       "      <td>0</td>\n",
       "      <td>7.7500</td>\n",
       "      <td>2</td>\n",
       "    </tr>\n",
       "    <tr>\n",
       "      <th>987</th>\n",
       "      <td>1</td>\n",
       "      <td>1</td>\n",
       "      <td>1</td>\n",
       "      <td>36.0</td>\n",
       "      <td>0</td>\n",
       "      <td>1</td>\n",
       "      <td>512.3292</td>\n",
       "      <td>1</td>\n",
       "    </tr>\n",
       "    <tr>\n",
       "      <th>988</th>\n",
       "      <td>2</td>\n",
       "      <td>1</td>\n",
       "      <td>0</td>\n",
       "      <td>24.0</td>\n",
       "      <td>2</td>\n",
       "      <td>1</td>\n",
       "      <td>27.0000</td>\n",
       "      <td>0</td>\n",
       "    </tr>\n",
       "    <tr>\n",
       "      <th>989</th>\n",
       "      <td>3</td>\n",
       "      <td>0</td>\n",
       "      <td>1</td>\n",
       "      <td>34.5</td>\n",
       "      <td>0</td>\n",
       "      <td>0</td>\n",
       "      <td>6.4375</td>\n",
       "      <td>1</td>\n",
       "    </tr>\n",
       "    <tr>\n",
       "      <th>990</th>\n",
       "      <td>3</td>\n",
       "      <td>0</td>\n",
       "      <td>1</td>\n",
       "      <td>25.0</td>\n",
       "      <td>0</td>\n",
       "      <td>0</td>\n",
       "      <td>7.2250</td>\n",
       "      <td>1</td>\n",
       "    </tr>\n",
       "    <tr>\n",
       "      <th>991</th>\n",
       "      <td>3</td>\n",
       "      <td>1</td>\n",
       "      <td>0</td>\n",
       "      <td>16.0</td>\n",
       "      <td>0</td>\n",
       "      <td>0</td>\n",
       "      <td>7.6500</td>\n",
       "      <td>0</td>\n",
       "    </tr>\n",
       "    <tr>\n",
       "      <th>992</th>\n",
       "      <td>3</td>\n",
       "      <td>1</td>\n",
       "      <td>0</td>\n",
       "      <td>24.0</td>\n",
       "      <td>0</td>\n",
       "      <td>0</td>\n",
       "      <td>7.7500</td>\n",
       "      <td>2</td>\n",
       "    </tr>\n",
       "    <tr>\n",
       "      <th>993</th>\n",
       "      <td>3</td>\n",
       "      <td>0</td>\n",
       "      <td>1</td>\n",
       "      <td>4.0</td>\n",
       "      <td>4</td>\n",
       "      <td>2</td>\n",
       "      <td>31.2750</td>\n",
       "      <td>0</td>\n",
       "    </tr>\n",
       "    <tr>\n",
       "      <th>994</th>\n",
       "      <td>3</td>\n",
       "      <td>1</td>\n",
       "      <td>0</td>\n",
       "      <td>17.0</td>\n",
       "      <td>4</td>\n",
       "      <td>2</td>\n",
       "      <td>7.9250</td>\n",
       "      <td>0</td>\n",
       "    </tr>\n",
       "    <tr>\n",
       "      <th>995</th>\n",
       "      <td>1</td>\n",
       "      <td>1</td>\n",
       "      <td>0</td>\n",
       "      <td>33.0</td>\n",
       "      <td>1</td>\n",
       "      <td>0</td>\n",
       "      <td>90.0000</td>\n",
       "      <td>2</td>\n",
       "    </tr>\n",
       "    <tr>\n",
       "      <th>996</th>\n",
       "      <td>3</td>\n",
       "      <td>0</td>\n",
       "      <td>1</td>\n",
       "      <td>30.0</td>\n",
       "      <td>0</td>\n",
       "      <td>0</td>\n",
       "      <td>7.2292</td>\n",
       "      <td>1</td>\n",
       "    </tr>\n",
       "    <tr>\n",
       "      <th>997</th>\n",
       "      <td>2</td>\n",
       "      <td>0</td>\n",
       "      <td>1</td>\n",
       "      <td>29.0</td>\n",
       "      <td>0</td>\n",
       "      <td>0</td>\n",
       "      <td>0.0000</td>\n",
       "      <td>0</td>\n",
       "    </tr>\n",
       "    <tr>\n",
       "      <th>998</th>\n",
       "      <td>3</td>\n",
       "      <td>1</td>\n",
       "      <td>1</td>\n",
       "      <td>32.0</td>\n",
       "      <td>0</td>\n",
       "      <td>0</td>\n",
       "      <td>7.9250</td>\n",
       "      <td>0</td>\n",
       "    </tr>\n",
       "    <tr>\n",
       "      <th>999</th>\n",
       "      <td>3</td>\n",
       "      <td>0</td>\n",
       "      <td>1</td>\n",
       "      <td>65.0</td>\n",
       "      <td>0</td>\n",
       "      <td>0</td>\n",
       "      <td>7.7500</td>\n",
       "      <td>2</td>\n",
       "    </tr>\n",
       "    <tr>\n",
       "      <th>1000</th>\n",
       "      <td>3</td>\n",
       "      <td>0</td>\n",
       "      <td>1</td>\n",
       "      <td>21.0</td>\n",
       "      <td>1</td>\n",
       "      <td>0</td>\n",
       "      <td>6.4958</td>\n",
       "      <td>0</td>\n",
       "    </tr>\n",
       "  </tbody>\n",
       "</table>\n",
       "<p>998 rows × 8 columns</p>\n",
       "</div>"
      ],
      "text/plain": [
       "             pclass  survived  sex   age  sibsp  parch      fare  embarked\n",
       "passengerid                                                               \n",
       "1                 3         0    1  36.0      0      0    0.0000         0\n",
       "2                 2         0    1  21.0      0      0   73.5000         0\n",
       "3                 1         0    1  56.0      0      0   26.5500         0\n",
       "4                 2         0    0  29.0      0      0   21.0000         0\n",
       "5                 3         0    0  43.0      1      6   46.9000         0\n",
       "6                 3         1    0  24.0      2      0   23.2500         2\n",
       "7                 2         1    0  23.0      0      0   13.7917         1\n",
       "8                 1         1    0  38.0      1      0   52.0000         0\n",
       "9                 3         1    0  24.0      1      1   22.3583         1\n",
       "10                3         1    0  24.0      0      0    7.7792         2\n",
       "11                3         0    1  22.0      0      0    7.7750         0\n",
       "12                3         1    0  18.0      0      1    9.3500         0\n",
       "13                1         0    1  36.0      0      0   75.2417         1\n",
       "14                1         1    0  27.0      1      1  247.5208         1\n",
       "15                2         0    1  23.0      0      0   15.0458         1\n",
       "16                1         0    1  38.0      0      0   27.7208         1\n",
       "17                2         0    1  30.0      1      0   24.0000         1\n",
       "18                3         0    1  24.0      0      0    7.7333         2\n",
       "19                2         1    0   6.0      0      1   33.0000         0\n",
       "20                1         1    1  38.0      0      0   30.5000         0\n",
       "21                1         1    0  35.0      0      0  135.6333         0\n",
       "22                3         0    1  24.0      0      0    7.2292         1\n",
       "23                3         0    1  28.0      0      0    8.0500         0\n",
       "24                3         0    1  25.0      1      0    7.7750         0\n",
       "25                3         0    1   4.0      3      2   27.9000         0\n",
       "26                3         0    1  40.5      0      2   14.5000         0\n",
       "27                1         1    0  47.0      1      1   52.5542         0\n",
       "28                2         0    0  18.0      1      1   13.0000         0\n",
       "29                3         0    0  32.0      1      1   15.5000         2\n",
       "30                2         0    1  36.0      0      0   13.0000         0\n",
       "...             ...       ...  ...   ...    ...    ...       ...       ...\n",
       "971               3         0    0  30.0      1      1   24.1500         0\n",
       "972               2         0    1  36.0      0      0   13.0000         0\n",
       "973               3         1    1  20.0      0      0    7.2292         1\n",
       "974               3         0    1  24.0      1      0   15.5000         2\n",
       "975               2         1    0  45.0      0      2   30.0000         0\n",
       "976               1         1    1  31.0      1      0   57.0000         0\n",
       "977               3         0    1  59.0      0      0    7.2500         0\n",
       "978               1         0    1  38.0      0      0   42.4000         0\n",
       "979               3         0    1  24.0      2      0   24.1500         0\n",
       "980               3         0    1  24.0      0      0    7.7500         2\n",
       "981               2         1    0   1.0      1      2   41.5792         1\n",
       "982               1         0    1  42.0      0      0   42.5000         0\n",
       "983               3         1    0  24.0      1      0   24.1500         2\n",
       "984               1         1    0  28.0      3      2  263.0000         0\n",
       "985               1         0    1  50.0      1      0   55.9000         0\n",
       "986               3         1    1  24.0      0      0    7.7500         2\n",
       "987               1         1    1  36.0      0      1  512.3292         1\n",
       "988               2         1    0  24.0      2      1   27.0000         0\n",
       "989               3         0    1  34.5      0      0    6.4375         1\n",
       "990               3         0    1  25.0      0      0    7.2250         1\n",
       "991               3         1    0  16.0      0      0    7.6500         0\n",
       "992               3         1    0  24.0      0      0    7.7500         2\n",
       "993               3         0    1   4.0      4      2   31.2750         0\n",
       "994               3         1    0  17.0      4      2    7.9250         0\n",
       "995               1         1    0  33.0      1      0   90.0000         2\n",
       "996               3         0    1  30.0      0      0    7.2292         1\n",
       "997               2         0    1  29.0      0      0    0.0000         0\n",
       "998               3         1    1  32.0      0      0    7.9250         0\n",
       "999               3         0    1  65.0      0      0    7.7500         2\n",
       "1000              3         0    1  21.0      1      0    6.4958         0\n",
       "\n",
       "[998 rows x 8 columns]"
      ]
     },
     "execution_count": 24,
     "metadata": {},
     "output_type": "execute_result"
    }
   ],
   "source": [
    "trainingData"
   ]
  },
  {
   "cell_type": "markdown",
   "metadata": {},
   "source": [
    "# Visualization"
   ]
  },
  {
   "cell_type": "code",
   "execution_count": 25,
   "metadata": {},
   "outputs": [
    {
     "data": {
      "text/plain": [
       "<matplotlib.text.Text at 0x104d6feb8>"
      ]
     },
     "execution_count": 25,
     "metadata": {},
     "output_type": "execute_result"
    },
    {
     "data": {
      "image/png": "[encoded data removed]",
      "text/plain": [
       "<matplotlib.figure.Figure at 0x109ef8898>"
      ]
     },
     "metadata": {},
     "output_type": "display_data"
    }
   ],
   "source": [
    "#Pay attention to this\n",
    "#A 60% accurate model would be unimpressive\n",
    "trainingData['survived'].value_counts().plot(kind = 'bar')\n",
    "plt.title('Division of Survival (1) and Death (0)')\n",
    "\n",
    "plt.xlabel('Survived?')\n",
    "plt.ylabel('Raw Count')"
   ]
  },
  {
   "cell_type": "code",
   "execution_count": 26,
   "metadata": {},
   "outputs": [
    {
     "data": {
      "text/plain": [
       "<matplotlib.text.Text at 0x109ef8dd8>"
      ]
     },
     "execution_count": 26,
     "metadata": {},
     "output_type": "execute_result"
    },
    {
     "data": {
      "image/png": "[encoded data removed]",
      "text/plain": [
       "<matplotlib.figure.Figure at 0x109f50f60>"
      ]
     },
     "metadata": {},
     "output_type": "display_data"
    }
   ],
   "source": [
    "plt.scatter(trainingData['survived'], trainingData['age'], alpha= 0.1)\n",
    "plt.title('Survival by Age')\n",
    "plt.ylabel('Age')\n",
    "plt.xlabel('Survived?')"
   ]
  },
  {
   "cell_type": "code",
   "execution_count": 27,
   "metadata": {},
   "outputs": [
    {
     "data": {
      "text/plain": [
       "<matplotlib.legend.Legend at 0x10a107400>"
      ]
     },
     "execution_count": 27,
     "metadata": {},
     "output_type": "execute_result"
    },
    {
     "data": {
      "image/png": "[encoded data removed]",
      "text/plain": [
       "<matplotlib.figure.Figure at 0x10a1076d8>"
      ]
     },
     "metadata": {},
     "output_type": "display_data"
    }
   ],
   "source": [
    "width = 0.1\n",
    "\n",
    "plt.bar([1,2,3], trainingData['pclass'][trainingData['survived'] == 0].value_counts(), width=width, align='edge')\n",
    "plt.bar([1,2,3], trainingData['pclass'][trainingData['survived'] == 1].value_counts(), width=-width, color='red', align='edge')\n",
    "\n",
    "plt.title(\"Class Distribution\")\n",
    "plt.xlabel('Class')\n",
    "plt.ylabel('# of Passengers ')\n",
    "plt.legend(('Survived', 'Died'),loc='best') "
   ]
  },
  {
   "cell_type": "code",
   "execution_count": 28,
   "metadata": {},
   "outputs": [
    {
     "data": {
      "text/plain": [
       "<matplotlib.legend.Legend at 0x10a384f60>"
      ]
     },
     "execution_count": 28,
     "metadata": {},
     "output_type": "execute_result"
    },
    {
     "data": {
      "image/png": "[encoded data removed]",
      "text/plain": [
       "<matplotlib.figure.Figure at 0x109f6a6d8>"
      ]
     },
     "metadata": {},
     "output_type": "display_data"
    }
   ],
   "source": [
    "fig = plt.figure(figsize=(15,6))\n",
    "\n",
    "#kernel density estimation to smoooooth\n",
    "#older passengers more likely ot be in the more expensive classes\n",
    "trainingData['age'][trainingData['pclass'] == 1].plot(kind ='kde') \n",
    "trainingData['age'][trainingData['pclass'] == 2].plot(kind ='kde')\n",
    "trainingData['age'][trainingData['pclass'] == 3].plot(kind ='kde')\n",
    "\n",
    "plt.xlabel(\"Age\")    \n",
    "plt.title(\"Age Distribution within classes\")\n",
    "\n",
    "plt.legend(('1st Class', '2nd Class','3rd Class'),loc='best') "
   ]
  },
  {
   "cell_type": "code",
   "execution_count": 29,
   "metadata": {},
   "outputs": [
    {
     "data": {
      "text/plain": [
       "<matplotlib.text.Text at 0x10a394dd8>"
      ]
     },
     "execution_count": 29,
     "metadata": {},
     "output_type": "execute_result"
    },
    {
     "data": {
      "image/png": "[encoded data removed]",
      "text/plain": [
       "<matplotlib.figure.Figure at 0x10a2f5400>"
      ]
     },
     "metadata": {},
     "output_type": "display_data"
    }
   ],
   "source": [
    "#Gender? \n",
    "fig = plt.figure(figsize=(14,6))\n",
    "\n",
    "maleData = trainingData['survived'][trainingData['sex'] == 1].value_counts().sort_index()\n",
    "femaleData = trainingData['survived'][trainingData['sex'] == 0].value_counts().sort_index()\n",
    "\n",
    "maleData.plot('bar', color='blue', alpha=0.6, width=0.10, align='edge')\n",
    "femaleData.plot('bar', color='pink', alpha=0.6, width=-0.10, align='edge')\n",
    "plt.legend(('Male', 'Female'),loc='best') \n",
    "plt.xlabel('Survived?')\n",
    "plt.ylabel('Raw Count')\n"
   ]
  },
  {
   "cell_type": "code",
   "execution_count": 30,
   "metadata": {},
   "outputs": [
    {
     "data": {
      "text/plain": [
       "(-0.5, 0.5)"
      ]
     },
     "execution_count": 30,
     "metadata": {},
     "output_type": "execute_result"
    },
    {
     "data": {
      "image/png": "[encoded data removed]",
      "text/plain": [
       "<matplotlib.figure.Figure at 0x10a099240>"
      ]
     },
     "metadata": {},
     "output_type": "display_data"
    }
   ],
   "source": [
    "#Percentagewise\n",
    "#~25% of makes survived and ~85% females \n",
    "fig = plt.figure(figsize=(8,6))\n",
    "\n",
    "maleData = trainingData['survived'][trainingData['sex'] == 1].value_counts().sort_index()\n",
    "femaleData = trainingData['survived'][trainingData['sex'] == 0].value_counts().sort_index()\n",
    "\n",
    "(maleData/maleData.sum()).plot('bar', color='blue', alpha=0.6, width=0.10, align='edge')\n",
    "(femaleData/femaleData.sum()).plot('bar', color='pink', alpha=0.6, width=-0.10, align='edge')\n",
    "\n",
    "plt.legend(('Male', 'Female'),loc='best') \n",
    "plt.xlabel('% Died by Gender')\n",
    "plt.ylabel('Proportional')\n",
    "plt.ylim(0.0,1.0)\n",
    "plt.xlim(-0.5, 0.5)"
   ]
  },
  {
   "cell_type": "code",
   "execution_count": 31,
   "metadata": {},
   "outputs": [
    {
     "data": {
      "text/plain": [
       "<matplotlib.legend.Legend at 0x10abebe10>"
      ]
     },
     "execution_count": 31,
     "metadata": {},
     "output_type": "execute_result"
    },
    {
     "data": {
      "image/png": "[encoded data removed]",
      "text/plain": [
       "<matplotlib.figure.Figure at 0x10a9a5630>"
      ]
     },
     "metadata": {},
     "output_type": "display_data"
    }
   ],
   "source": [
    "#What about class by gender\n",
    "fig = plt.figure(figsize=(20,4))\n",
    "\n",
    "ax0=fig.add_subplot(141)\n",
    "male_class1 = trainingData['survived'][trainingData['sex'] == 1][trainingData['pclass'] == 1].value_counts()\n",
    "(male_class1/male_class1.sum()).plot(kind='bar', label='male, highclass', color='blue')\n",
    "ax0.axes.set_xticklabels([\"Died\", \"Survived\"], rotation=0)\n",
    "ax0.set_xlim(-1, 2)\n",
    "plt.title(\"Male High Class (1) - \" + str(male_class1.sum()) + \" Total\") \n",
    "plt.legend()\n",
    "\n",
    "ax1=fig.add_subplot(142)\n",
    "male_class2 = trainingData['survived'][trainingData['sex'] == 1][trainingData['pclass'] == 2].value_counts()\n",
    "(male_class2/male_class2.sum()).plot(kind='bar', label='male, midclass', color='blue')\n",
    "ax1.axes.set_xticklabels([\"Died\", \"Survived\"], rotation=0)\n",
    "ax1.set_xlim(-1, 2)\n",
    "plt.title(\"Male Middle Class (2) - \" + str(male_class2.sum()) + \" Total\") \n",
    "plt.legend()\n",
    "\n",
    "ax1=fig.add_subplot(143)\n",
    "male_class3 = trainingData['survived'][trainingData['sex'] == 1][trainingData['pclass'] == 3].value_counts()\n",
    "(male_class3/male_class3.sum()).plot(kind='bar', label='male, lowclass', color='blue')\n",
    "ax1.axes.set_xticklabels([\"Died\", \"Survived\"], rotation=0)\n",
    "ax1.set_xlim(-1, 2)\n",
    "plt.title(\"Male Lower Class (3) - \" + str(male_class3.sum()) + \" Total\") \n",
    "plt.legend()"
   ]
  },
  {
   "cell_type": "code",
   "execution_count": 32,
   "metadata": {},
   "outputs": [
    {
     "data": {
      "text/plain": [
       "<matplotlib.legend.Legend at 0x10ade8b00>"
      ]
     },
     "execution_count": 32,
     "metadata": {},
     "output_type": "execute_result"
    },
    {
     "data": {
      "image/png": "[encoded data removed]",
      "text/plain": [
       "<matplotlib.figure.Figure at 0x10ac20390>"
      ]
     },
     "metadata": {},
     "output_type": "display_data"
    }
   ],
   "source": [
    "fig = plt.figure(figsize=(20,4))\n",
    "\n",
    "ax0=fig.add_subplot(141)\n",
    "female_class1 = trainingData['survived'][trainingData['sex'] == 0][trainingData['pclass'] == 1].value_counts()\n",
    "(female_class1/female_class1.sum()).plot(kind='bar', label='female, highclass', color='pink')\n",
    "ax0.axes.set_xticklabels([\"Survived\", \"Died\"], rotation=0)\n",
    "ax0.set_xlim(-1, 2)\n",
    "plt.title(\"Female High Class (1) - \" + str(female_class1.sum()) + \" Total\") \n",
    "plt.legend()\n",
    "\n",
    "ax1=fig.add_subplot(142)\n",
    "female_class2 = trainingData['survived'][trainingData['sex'] == 0][trainingData['pclass'] == 2].value_counts()\n",
    "(female_class2/female_class2.sum()).plot(kind='bar', label='female, midclass', color='pink')\n",
    "ax1.axes.set_xticklabels([\"Survived\", \"Died\"], rotation=0)\n",
    "ax1.set_xlim(-1, 2)\n",
    "plt.title(\"Female Middle Class (2) - \" + str(female_class2.sum()) + \" Total\") \n",
    "plt.legend()\n",
    "\n",
    "ax1=fig.add_subplot(143)\n",
    "female_class3 = trainingData['survived'][trainingData['sex'] == 0][trainingData['pclass'] == 3].value_counts()\n",
    "(female_class3/female_class3.sum()).plot(kind='bar', label='female, lowclass', color='pink')\n",
    "ax1.axes.set_xticklabels([\"Survived\", \"Died\"], rotation=0)\n",
    "ax1.set_xlim(-1, 2)\n",
    "plt.title(\"Female Lower Class (3) - \" + str(female_class3.sum()) + \" Total\") \n",
    "plt.legend()"
   ]
  },
  {
   "cell_type": "code",
   "execution_count": 33,
   "metadata": {
    "scrolled": true
   },
   "outputs": [
    {
     "data": {
      "text/plain": [
       "<matplotlib.text.Text at 0x109f57898>"
      ]
     },
     "execution_count": 33,
     "metadata": {},
     "output_type": "execute_result"
    },
    {
     "data": {
      "image/png": "[encoded data removed]",
      "text/plain": [
       "<matplotlib.figure.Figure at 0x10a255be0>"
      ]
     },
     "metadata": {},
     "output_type": "display_data"
    }
   ],
   "source": [
    "#Are fare and class independent?\n",
    "plt.scatter(trainingData['pclass'], trainingData['fare'], alpha= 0.1)\n",
    "plt.title('Fare Variance per Passenger Class')\n",
    "plt.ylabel('Fare')\n",
    "plt.xlabel('Passenger Class')"
   ]
  },
  {
   "cell_type": "code",
   "execution_count": 34,
   "metadata": {},
   "outputs": [
    {
     "data": {
      "text/plain": [
       "<matplotlib.text.Text at 0x10af38358>"
      ]
     },
     "execution_count": 34,
     "metadata": {},
     "output_type": "execute_result"
    },
    {
     "data": {
      "image/png": "[encoded data removed]",
      "text/plain": [
       "<matplotlib.figure.Figure at 0x10b081780>"
      ]
     },
     "metadata": {},
     "output_type": "display_data"
    }
   ],
   "source": [
    "#Did the fare paid effect survival\n",
    "plt.scatter(trainingData['survived'], trainingData['fare'], alpha= 0.2)\n",
    "plt.title('Fare Variance by Survival')\n",
    "plt.ylabel('Fare')\n",
    "plt.xlabel('Survived')"
   ]
  },
  {
   "cell_type": "code",
   "execution_count": 35,
   "metadata": {},
   "outputs": [
    {
     "data": {
      "text/plain": [
       "<matplotlib.legend.Legend at 0x10b2c3ac8>"
      ]
     },
     "execution_count": 35,
     "metadata": {},
     "output_type": "execute_result"
    },
    {
     "data": {
      "image/png": "[encoded data removed]",
      "text/plain": [
       "<matplotlib.figure.Figure at 0x10b185588>"
      ]
     },
     "metadata": {},
     "output_type": "display_data"
    }
   ],
   "source": [
    "#Did port of embarkation effect survival rate\n",
    "fig = plt.figure(figsize=(20,4))\n",
    "\n",
    "ax0=fig.add_subplot(141)\n",
    "embarked_S = trainingData['survived'][trainingData['embarked'] == 0].value_counts()\n",
    "(embarked_S/embarked_S.sum()).plot(kind='bar', label='female, highclass')\n",
    "ax0.axes.set_xticklabels([\"Survived\", \"Died\"], rotation=0)\n",
    "ax0.set_xlim(-1, 2)\n",
    "plt.title(\"Southampton - \" + str(embarked_S.sum()) + \" Total\") \n",
    "plt.legend()\n",
    "\n",
    "ax1=fig.add_subplot(142)\n",
    "embarked_C = trainingData['survived'][trainingData['embarked'] == 1].value_counts()\n",
    "(embarked_C/embarked_C.sum()).plot(kind='bar', label='female, midclass')\n",
    "ax1.axes.set_xticklabels([\"Survived\", \"Died\"], rotation=0)\n",
    "ax1.set_xlim(-1, 2)\n",
    "plt.title(\"Cherbourg - \" + str(embarked_C.sum()) + \" Total\") \n",
    "plt.legend()\n",
    "\n",
    "ax1=fig.add_subplot(143)\n",
    "embarked_Q = trainingData['survived'][trainingData['embarked'] == 2].value_counts()\n",
    "(embarked_Q/embarked_Q.sum()).plot(kind='bar', label='female, lowclass')\n",
    "ax1.axes.set_xticklabels([\"Survived\", \"Died\"], rotation=0)\n",
    "ax1.set_xlim(-1, 2)\n",
    "plt.title(\"Female Lower Class (3) - \" + str(embarked_Q.sum()) + \" Total\") \n",
    "plt.legend()"
   ]
  },
  {
   "cell_type": "code",
   "execution_count": null,
   "metadata": {
    "collapsed": true
   },
   "outputs": [],
   "source": []
  },
  {
   "cell_type": "markdown",
   "metadata": {},
   "source": [
    "# Implementing Logistic Regression"
   ]
  },
  {
   "cell_type": "code",
   "execution_count": 74,
   "metadata": {},
   "outputs": [
    {
     "name": "stdout",
     "output_type": "stream",
     "text": [
      "Training Set Shape: (998, 8)\n",
      "Cross Validation Set Shape: (308, 8)\n",
      "Theta Set Shape: (8, 1)\n",
      "Training Labels Set Shape: (998, 1)\n",
      "Cross Validation Labels Set Shape: (308, 1)\n"
     ]
    }
   ],
   "source": [
    "#features/x's - 'pclass', 'sex', 'age', 'sibsp', 'parch', 'fare', 'embarked'\n",
    "someFeatures = np.array(trainingData.loc[:, ['pclass', 'sex', 'age', 'sibsp', 'parch', 'fare', 'embarked']])\n",
    "someTestFeatures = np.array(testingData.loc[:, ['pclass', 'sex', 'age', 'sibsp', 'parch', 'fare', 'embarked']])\n",
    "\n",
    "#adding column of ones \n",
    "constantCol = np.ones((len(someFeatures),1))\n",
    "constantTestCol = np.ones((len(someTestFeatures), 1))\n",
    "features = np.hstack((someFeatures, constantCol))\n",
    "testFeatures = np.hstack((someTestFeatures, constantTestCol))\n",
    "\n",
    "\n",
    "#parameters/thetas - 7 features + 1 intercept = 8\n",
    "thetas = np.zeros((8,1))\n",
    "\n",
    "#classes/y's - 'survived'\n",
    "labels = np.array(trainingData.loc[:,['survived']], ndmin=2)\n",
    "\n",
    "testLabels = np.array(testingData.loc[:,['survived']], ndmin=2)\n",
    "\n",
    "\n",
    "print(\"Training Set Shape: \" + str(features.shape))\n",
    "print(\"Cross Validation Set Shape: \" + str(testFeatures.shape))\n",
    "\n",
    "print(\"Theta Set Shape: \" + str(thetas.shape))\n",
    "\n",
    "print(\"Training Labels Set Shape: \" + str(labels.shape))\n",
    "print(\"Cross Validation Labels Set Shape: \" + str(testLabels.shape))"
   ]
  },
  {
   "cell_type": "code",
   "execution_count": 75,
   "metadata": {},
   "outputs": [
    {
     "name": "stdout",
     "output_type": "stream",
     "text": [
      "Accuracy at 5000 Iterations: 0.642857142857\n",
      "Accuracy at 10000 Iterations: 0.642857142857\n",
      "Accuracy at 15000 Iterations: 0.646103896104\n",
      "Accuracy at 20000 Iterations: 0.649350649351\n",
      "Accuracy at 25000 Iterations: 0.646103896104\n",
      "Accuracy at 30000 Iterations: 0.649350649351\n",
      "Accuracy at 35000 Iterations: 0.655844155844\n",
      "Accuracy at 40000 Iterations: 0.659090909091\n",
      "Accuracy at 45000 Iterations: 0.668831168831\n",
      "Accuracy at 50000 Iterations: 0.672077922078\n",
      "Accuracy at 55000 Iterations: 0.668831168831\n",
      "Accuracy at 60000 Iterations: 0.659090909091\n",
      "Accuracy at 65000 Iterations: 0.659090909091\n",
      "Accuracy at 70000 Iterations: 0.659090909091\n",
      "Accuracy at 75000 Iterations: 0.655844155844\n",
      "Accuracy at 80000 Iterations: 0.652597402597\n",
      "Accuracy at 85000 Iterations: 0.649350649351\n",
      "Accuracy at 90000 Iterations: 0.649350649351\n",
      "Accuracy at 95000 Iterations: 0.649350649351\n",
      "Accuracy at 100000 Iterations: 0.652597402597\n",
      "Accuracy at 105000 Iterations: 0.652597402597\n",
      "Accuracy at 110000 Iterations: 0.652597402597\n",
      "Accuracy at 115000 Iterations: 0.649350649351\n",
      "Accuracy at 120000 Iterations: 0.649350649351\n",
      "Accuracy at 125000 Iterations: 0.652597402597\n",
      "Accuracy at 130000 Iterations: 0.652597402597\n",
      "Accuracy at 135000 Iterations: 0.655844155844\n",
      "Accuracy at 140000 Iterations: 0.655844155844\n",
      "Accuracy at 145000 Iterations: 0.655844155844\n",
      "Accuracy at 150000 Iterations: 0.655844155844\n",
      "Accuracy at 155000 Iterations: 0.655844155844\n",
      "Accuracy at 160000 Iterations: 0.655844155844\n",
      "Accuracy at 165000 Iterations: 0.659090909091\n",
      "Accuracy at 170000 Iterations: 0.659090909091\n",
      "Accuracy at 175000 Iterations: 0.662337662338\n",
      "Accuracy at 180000 Iterations: 0.662337662338\n",
      "Accuracy at 185000 Iterations: 0.662337662338\n",
      "Accuracy at 190000 Iterations: 0.665584415584\n",
      "Accuracy at 195000 Iterations: 0.665584415584\n",
      "Accuracy at 200000 Iterations: 0.665584415584\n",
      "Accuracy at 205000 Iterations: 0.662337662338\n",
      "Accuracy at 210000 Iterations: 0.662337662338\n",
      "Accuracy at 215000 Iterations: 0.662337662338\n",
      "Accuracy at 220000 Iterations: 0.665584415584\n",
      "Accuracy at 225000 Iterations: 0.665584415584\n",
      "Accuracy at 230000 Iterations: 0.668831168831\n",
      "Accuracy at 235000 Iterations: 0.668831168831\n",
      "Accuracy at 240000 Iterations: 0.668831168831\n",
      "Accuracy at 245000 Iterations: 0.668831168831\n",
      "Accuracy at 250000 Iterations: 0.668831168831\n",
      "Accuracy at 255000 Iterations: 0.668831168831\n",
      "Accuracy at 260000 Iterations: 0.668831168831\n",
      "Accuracy at 265000 Iterations: 0.672077922078\n",
      "Accuracy at 270000 Iterations: 0.672077922078\n",
      "Accuracy at 275000 Iterations: 0.672077922078\n",
      "Accuracy at 280000 Iterations: 0.675324675325\n",
      "Accuracy at 285000 Iterations: 0.675324675325\n",
      "Accuracy at 290000 Iterations: 0.678571428571\n",
      "Accuracy at 295000 Iterations: 0.678571428571\n",
      "Accuracy at 300000 Iterations: 0.678571428571\n",
      "Accuracy at 305000 Iterations: 0.678571428571\n",
      "Accuracy at 310000 Iterations: 0.678571428571\n",
      "Accuracy at 315000 Iterations: 0.678571428571\n",
      "Accuracy at 320000 Iterations: 0.678571428571\n",
      "Accuracy at 325000 Iterations: 0.678571428571\n",
      "Accuracy at 330000 Iterations: 0.678571428571\n",
      "Accuracy at 335000 Iterations: 0.681818181818\n",
      "Accuracy at 340000 Iterations: 0.681818181818\n",
      "Accuracy at 345000 Iterations: 0.681818181818\n",
      "Accuracy at 350000 Iterations: 0.681818181818\n",
      "Accuracy at 355000 Iterations: 0.681818181818\n",
      "Accuracy at 360000 Iterations: 0.681818181818\n",
      "Accuracy at 365000 Iterations: 0.681818181818\n",
      "Accuracy at 370000 Iterations: 0.681818181818\n",
      "Accuracy at 375000 Iterations: 0.681818181818\n",
      "Accuracy at 380000 Iterations: 0.681818181818\n",
      "Accuracy at 385000 Iterations: 0.681818181818\n",
      "Accuracy at 390000 Iterations: 0.681818181818\n",
      "Accuracy at 395000 Iterations: 0.681818181818\n",
      "Accuracy at 400000 Iterations: 0.681818181818\n",
      "Accuracy at 405000 Iterations: 0.681818181818\n",
      "Accuracy at 410000 Iterations: 0.681818181818\n",
      "Accuracy at 415000 Iterations: 0.681818181818\n",
      "Accuracy at 420000 Iterations: 0.685064935065\n",
      "Accuracy at 425000 Iterations: 0.685064935065\n",
      "Accuracy at 430000 Iterations: 0.681818181818\n",
      "Accuracy at 435000 Iterations: 0.681818181818\n",
      "Accuracy at 440000 Iterations: 0.681818181818\n",
      "Accuracy at 445000 Iterations: 0.681818181818\n",
      "Accuracy at 450000 Iterations: 0.681818181818\n",
      "Accuracy at 455000 Iterations: 0.681818181818\n",
      "Accuracy at 460000 Iterations: 0.681818181818\n",
      "Accuracy at 465000 Iterations: 0.688311688312\n",
      "Accuracy at 470000 Iterations: 0.688311688312\n",
      "Accuracy at 475000 Iterations: 0.688311688312\n",
      "Accuracy at 480000 Iterations: 0.688311688312\n",
      "Accuracy at 485000 Iterations: 0.688311688312\n",
      "Accuracy at 490000 Iterations: 0.688311688312\n",
      "Accuracy at 495000 Iterations: 0.688311688312\n",
      "Accuracy at 500000 Iterations: 0.688311688312\n",
      "Complete...\n",
      "Iterations: 500000\n",
      "Current Cost Function Evaluation: 0.564857476426\n",
      "Current Cost Difference Between Last Iterations: 6.21152355107e-08\n"
     ]
    },
    {
     "data": {
      "text/plain": [
       "array([[-0.20928868],\n",
       "       [-0.4455332 ],\n",
       "       [-0.00791278],\n",
       "       [-0.10895382],\n",
       "       [ 0.03798684],\n",
       "       [ 0.0127606 ],\n",
       "       [ 0.11941591],\n",
       "       [ 0.0221743 ]])"
      ]
     },
     "execution_count": 75,
     "metadata": {},
     "output_type": "execute_result"
    }
   ],
   "source": [
    "#all being stopped at 500000 iterations and thetas starting at 0.0\n",
    "#alpha = 0.05  # got to 0.7402 - w/ wild fluctuations\n",
    "#alpha = 0.01  # got to 0.7695\n",
    "#alpha = 0.007 # got to 0.8084\n",
    "#alpha = 0.005 # got to 0.8247\n",
    "#alpha = 0.003 # got to 0.8117\n",
    "#alpha = 0.001 # got to 0.8019\n",
    "#alpha = 1e-4  # got to 0.7987\n",
    "alpha = 1e-5  # got to 0.6883\n",
    "\n",
    "minCostDif = 1e-10\n",
    "maxIterations = 500000\n",
    "lr.gradientDescent(features, thetas, labels, alpha, minCostDif, maxIterations, testFeatures, testLabels)"
   ]
  },
  {
   "cell_type": "code",
   "execution_count": null,
   "metadata": {
    "collapsed": true
   },
   "outputs": [],
   "source": []
  }
 ],
 "metadata": {
  "kernelspec": {
   "display_name": "Python 3",
   "language": "python",
   "name": "python3"
  },
  "language_info": {
   "codemirror_mode": {
    "name": "ipython",
    "version": 3
   },
   "file_extension": ".py",
   "mimetype": "text/x-python",
   "name": "python",
   "nbconvert_exporter": "python",
   "pygments_lexer": "ipython3",
   "version": "3.6.1"
  }
 },
 "nbformat": 4,
 "nbformat_minor": 2
}
